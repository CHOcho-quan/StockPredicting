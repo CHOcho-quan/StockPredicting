{
 "cells": [
  {
   "cell_type": "markdown",
   "metadata": {},
   "source": [
    "# Stock Predicting\n",
    "We have used several methods to implement the prediction. The data are seperated into 2 parts where the first part is about the indicators and the second part is about the raw data. The raw data will be used by feature tools later to generate some amazing data"
   ]
  },
  {
   "cell_type": "code",
   "execution_count": 1,
   "metadata": {},
   "outputs": [
    {
     "name": "stderr",
     "output_type": "stream",
     "text": [
      "Using TensorFlow backend.\n"
     ]
    }
   ],
   "source": [
    "import csv, datetime, time, random\n",
    "import numpy as np\n",
    "import keras\n",
    "from keras.models import Sequential\n",
    "from keras.layers import Dense, Dropout, Flatten, Conv2D, MaxPooling2D, LSTM, BatchNormalization\n",
    "from keras.callbacks import EarlyStopping, ModelCheckpoint\n",
    "from data_reader import DataLoader\n",
    "from sklearn.decomposition import PCA\n",
    "import pandas as pd\n",
    "import tqdm\n",
    "from sklearn.ensemble import GradientBoostingRegressor, RandomForestRegressor, AdaBoostRegressor\n",
    "import os, pickle\n",
    "from data_reader import DataLoader\n",
    "import matplotlib.pyplot as plt"
   ]
  },
  {
   "cell_type": "code",
   "execution_count": 6,
   "metadata": {},
   "outputs": [],
   "source": [
    "TMP = ''\n",
    "\n",
    "class Data():\n",
    "    \"\"\"\n",
    "    Loading a single line of the data\n",
    "\n",
    "    \"\"\"\n",
    "    def __init__(self, data):\n",
    "        self.fv = [float(d) for d in data[:108]]\n",
    "        self.midprice = float(data[108])\n",
    "        self.uptime = data[109]\n",
    "        self.lastprice = float(data[111])\n",
    "        self.volume = float(data[112])\n",
    "        self.lastvolume = float(data[113])\n",
    "        self.turnover = float(data[114])\n",
    "        self.lastturnover = float(data[115])\n",
    "        self.askprice = [float(data[120]), float(data[119]), float(data[118]), float(data[117]), float(data[116])]\n",
    "        self.bidprice = [float(data[121]), float(data[122]), float(data[123]), float(data[124]), float(data[125])]\n",
    "        self.askvolume = [float(data[130]), float(data[129]), float(data[128]), float(data[127]), float(data[126])]\n",
    "        self.bibdvolume = [float(data[131]), float(data[132]), float(data[133]), float(data[134]), float(data[135])]\n",
    "        self.openinterest = float(data[136])\n",
    "        self.upper = float(data[137])\n",
    "        self.lower = float(data[138])\n",
    "        self.day = 0\n",
    "        self.apm = ''\n",
    "\n",
    "        self.init_time()\n",
    "\n",
    "    def get_feature_vector(self):\n",
    "        return np.array(self.fv)\n",
    "\n",
    "    def init_time(self):\n",
    "        \"\"\"\n",
    "        Init time of the single line data\n",
    "\n",
    "        \"\"\"\n",
    "        time_digit = self.uptime\n",
    "        param = time_digit.split(':')\n",
    "        h = int(param[0])\n",
    "        m = int(param[1])\n",
    "        s = int(param[2])\n",
    "        self.uptime = datetime.time(h, m, s)\n",
    "        if self.uptime > datetime.time(12,0,0):\n",
    "            self.apm = 'pm'\n",
    "        else:\n",
    "            self.apm = 'am'\n",
    "\n",
    "\n",
    "def get_fromcsv(root):\n",
    "    \"\"\"\n",
    "    Reading the data from csv simutaniously wash out the data that across two days\n",
    "\n",
    "    \"\"\"\n",
    "    flag = False\n",
    "    dataset = []\n",
    "    begin = time.time()\n",
    "    last_time = datetime.time(0,0,0)\n",
    "    day_count = 0\n",
    "    global TMP\n",
    "    with open(root, 'r') as f:\n",
    "        datafile = csv.reader(f)\n",
    "        for line in datafile:\n",
    "            if flag:\n",
    "                TMP = line\n",
    "                data = Data(line)\n",
    "                dataset.append(data)\n",
    "                if data.uptime < last_time:\n",
    "                    day_count += 1\n",
    "                    data.day = day_count\n",
    "                    #print(data.day)\n",
    "\n",
    "                # if day_count == 3:\n",
    "                #     break\n",
    "\n",
    "                last_time = data.uptime\n",
    "            else:\n",
    "                flag = True\n",
    "    end = time.time()\n",
    "    print('dataset length:\\t{}\\ttime:\\t{}'.format(len(dataset), end - begin))\n",
    "    return dataset\n",
    "\n",
    "def merge_data(simdatas):\n",
    "    newdata = Data(TMP)\n",
    "    l = len(simdatas)\n",
    "    new_fv = [0 for i in range(108)]\n",
    "    new_midprice = 0\n",
    "    new_lastvolume = 0\n",
    "    new_lastturnover = 0\n",
    "    new_askprice = [0 for i in range(5)]\n",
    "    new_bidprice = [0 for i in range(5)]\n",
    "    new_askvolume = [0 for i in range(5)]\n",
    "    new_bidvolume = [0 for i in range(5)]\n",
    "    lastdata = simdatas[-1]\n",
    "    for data in simdatas:\n",
    "        for i in range(108):\n",
    "            new_fv[i] += data.fv[i]\n",
    "        new_midprice += data.midprice\n",
    "        new_lastvolume += data.lastvolume\n",
    "        new_lastturnover += data.lastturnover\n",
    "        for i in range(5):\n",
    "            new_askprice[i] += data.askprice[i]\n",
    "            new_bidprice[i] += data.bidprice[i]\n",
    "            new_askvolume[i] += data.askvolume[i]\n",
    "            new_bidvolume[i] += data.bibdvolume[i]\n",
    "\n",
    "    for i in range(108):\n",
    "        new_fv[i] /= l\n",
    "\n",
    "    new_midprice /= l\n",
    "    new_lastvolume /= l\n",
    "    new_lastturnover /= l\n",
    "\n",
    "    for i in range(5):\n",
    "        new_askprice[i] /= l\n",
    "        new_bidprice[i] /= l\n",
    "        new_askvolume[i] /= l\n",
    "        new_bidvolume[i] /= l\n",
    "\n",
    "    newdata.fv = new_fv\n",
    "    newdata.midprice = new_midprice\n",
    "    newdata.uptime = lastdata.uptime\n",
    "    newdata.lastprice = lastdata.lastprice\n",
    "    newdata.volume = lastdata.volume\n",
    "    newdata.lastvolume = new_lastvolume\n",
    "    newdata.turnover = lastdata.turnover\n",
    "    newdata.lastturnover = new_lastturnover\n",
    "    newdata.askprice = new_askprice\n",
    "    newdata.bidprice = new_bidprice\n",
    "    newdata.askvolume = new_askvolume\n",
    "    newdata.bibdvolume = new_bidvolume\n",
    "    newdata.openinterest = lastdata.openinterest\n",
    "    newdata.upper = lastdata.upper\n",
    "    newdata.lower = lastdata.lower\n",
    "    newdata.day = lastdata.day\n",
    "    newdata.apm = lastdata.apm\n",
    "\n",
    "    return newdata\n",
    "\n",
    "def clean_data(dataset):\n",
    "    \"\"\"\n",
    "    Wash out the data that is at the same time\n",
    "\n",
    "    \"\"\"\n",
    "    last_time = dataset[0].uptime\n",
    "    simdatas = []\n",
    "    new_dataset = []\n",
    "    for data in dataset:\n",
    "        if data.uptime == last_time:\n",
    "            simdatas.append(data)\n",
    "        else:\n",
    "            new_dataset.append(merge_data(simdatas))\n",
    "            simdatas = [data]\n",
    "            last_time = data.uptime\n",
    "\n",
    "    if len(simdatas) > 0:\n",
    "        new_dataset.append(merge_data(simdatas))\n",
    "\n",
    "    return new_dataset\n",
    "\n",
    "def get_raw_label(new_dataset, n, seq_len, sample_gap):\n",
    "    data_day_order = []\n",
    "    tmp = []\n",
    "    apm = 'am'\n",
    "    dataset = []\n",
    "    labels = []\n",
    "    for data in new_dataset:\n",
    "        if data.apm == apm:\n",
    "            tmp.append(data)\n",
    "        else:\n",
    "            data_day_order.append(tmp)\n",
    "            tmp = [data]\n",
    "            apm = 'pm' if apm == 'am' else 'am'\n",
    "\n",
    "    for i, data_batch in enumerate(data_day_order):\n",
    "        data_day_order[i] = data_batch[:-1 * n]\n",
    "        sample_num = (len(data_day_order[i]) // sample_gap) - 1\n",
    "        for j in range(sample_num):\n",
    "            left = j * sample_gap\n",
    "            mid = left + seq_len\n",
    "            right = left + seq_len + n\n",
    "            tmp = []\n",
    "            for k in range(left, mid):\n",
    "                tmp.append(data_day_order[i][k].midprice)\n",
    "                tmp.append(data_day_order[i][k].lastprice)\n",
    "                tmp.append(data_day_order[i][k].volume)\n",
    "                tmp.append(data_day_order[i][k].lastvolume)\n",
    "                tmp.append(data_day_order[i][k].turnover)\n",
    "                tmp.append(data_day_order[i][k].lastturnover)\n",
    "                tmp.append(data_day_order[i][k].upper)\n",
    "                tmp.append(data_day_order[i][k].lower)\n",
    "                tmp.extend(data_day_order[i][k].askprice)\n",
    "                tmp.extend(data_day_order[i][k].bidprice)\n",
    "                tmp.extend(data_day_order[i][k].askvolume)\n",
    "                tmp.extend(data_day_order[i][k].bibdvolume)\n",
    "            dataset.append(tmp)\n",
    "            current = data_day_order[i][mid - 1].askprice[0] + data_day_order[i][mid - 1].bidprice[0]\n",
    "            future = data_day_order[i][right - 1].askprice[0] + data_day_order[i][right - 1].bidprice[0]\n",
    "            label = (future - current) / 2\n",
    "            labels.append(label)\n",
    "\n",
    "    print('total data:\\t{}\\ttotal labels:\\t{}'.format(len(dataset), len(labels)))\n",
    "\n",
    "    return dataset, labels\n",
    "\n",
    "def get_indicator_label(new_dataset, n, seq_len, sample_gap):\n",
    "    data_day_order = []\n",
    "    tmp = []\n",
    "    apm = 'am'\n",
    "    dataset = []\n",
    "    labels = []\n",
    "    for data in new_dataset:\n",
    "        if data.apm == apm:\n",
    "            tmp.append(data)\n",
    "        else:\n",
    "            data_day_order.append(tmp)\n",
    "            tmp = [data]\n",
    "            apm = 'pm' if apm == 'am' else 'am'\n",
    "\n",
    "    for i, data_batch in enumerate(data_day_order):\n",
    "        data_day_order[i] = data_batch[:-1 * n]\n",
    "        sample_num = (len(data_day_order[i]) // sample_gap) - 1\n",
    "        for j in range(sample_num):\n",
    "            left = j * sample_gap\n",
    "            mid = left + seq_len\n",
    "            right = left + seq_len + n\n",
    "            tmp = []\n",
    "            for k in range(left, mid):\n",
    "                tmp.append(data_day_order[i][k].fv)\n",
    "            dataset.append(tmp)\n",
    "            current = data_day_order[i][mid - 1].askprice[0] + data_day_order[i][mid - 1].bidprice[0]\n",
    "            future = data_day_order[i][right - 1].askprice[0] + data_day_order[i][right - 1].bidprice[0]\n",
    "            label = (future - current) / 2\n",
    "            labels.append(label)\n",
    "\n",
    "    print('total data:\\t{}\\ttotal labels:\\t{}'.format(len(dataset), len(labels)))\n",
    "\n",
    "    return dataset, labels\n",
    "\n",
    "def divid_dataset(dataset, labels):\n",
    "    \"\"\"\n",
    "    Divide the dataset into train, validation & test\n",
    "\n",
    "    \"\"\"\n",
    "    l = len(dataset)\n",
    "    idx_list = list(range(l))\n",
    "    random.shuffle(idx_list)\n",
    "\n",
    "    train_range = int(l * 0.8)\n",
    "    dev_range = int(l * 0.9)\n",
    "\n",
    "    train_input = []\n",
    "    train_label = []\n",
    "    dev_input = []\n",
    "    dev_label = []\n",
    "    test_input = []\n",
    "    test_label = []\n",
    "\n",
    "    for i in range(train_range):\n",
    "        idx = idx_list[i]\n",
    "        train_input.append(dataset[idx])\n",
    "        train_label.append(labels[idx])\n",
    "\n",
    "    for i in range(train_range, dev_range):\n",
    "        idx = idx_list[i]\n",
    "        dev_input.append(dataset[idx])\n",
    "        dev_label.append(labels[idx])\n",
    "\n",
    "    for i in range(dev_range, l):\n",
    "        idx = idx_list[i]\n",
    "        test_input.append(dataset[idx])\n",
    "        test_label.append(labels[idx])\n",
    "\n",
    "    print('train set size:\\t{}\\tdevelop set size:\\t{}\\ttest set size:\\t{}'.format(len(train_input), len(dev_input), len(test_input)))\n",
    "\n",
    "    return (train_input, train_label), (dev_input, dev_label), (test_input, test_label)\n",
    "\n",
    "def DataLoader(root, N, seq_len, sample_gap, type=True, dev_bs = 1, test_bs = 1):\n",
    "    \"\"\"\n",
    "    root : the place of the csv file\n",
    "    N : the n-th future prediction\n",
    "    seq_len : the n future data used to predict the result\n",
    "    sample_gap : stride of the data using\n",
    "\n",
    "    \"\"\"\n",
    "    dataset = get_fromcsv(root)\n",
    "    dataset = clean_data(dataset)\n",
    "    print(np.array(dataset).shape)\n",
    "    if type:\n",
    "        dataset, labels = get_indicator_label(dataset, N, seq_len, sample_gap)\n",
    "    else:\n",
    "        dataset, labels = get_raw_label(dataset, N, seq_len, sample_gap)\n",
    "    (train_input, train_label), (dev_input, dev_label), (test_input, test_label) = divid_dataset(dataset, labels)\n",
    "\n",
    "    return (np.array(train_input), np.array(train_label)), (np.array(dev_input), np.array(dev_label)), (np.array(test_input), np.array(test_label))"
   ]
  },
  {
   "cell_type": "markdown",
   "metadata": {},
   "source": [
    "### Using Different Methods to do regression"
   ]
  },
  {
   "cell_type": "code",
   "execution_count": 8,
   "metadata": {},
   "outputs": [
    {
     "name": "stdout",
     "output_type": "stream",
     "text": [
      "dataset length:\t1721577\ttime:\t288.38901805877686\n",
      "(576093,)\n",
      "total data:\t18864\ttotal labels:\t18864\n",
      "train set size:\t15091\tdevelop set size:\t1886\ttest set size:\t1887\n",
      "_________________________________________________________________\n",
      "Layer (type)                 Output Shape              Param #   \n",
      "=================================================================\n",
      "conv2d_5 (Conv2D)            (None, 28, 34, 32)        896       \n",
      "_________________________________________________________________\n",
      "conv2d_6 (Conv2D)            (None, 26, 32, 32)        9248      \n",
      "_________________________________________________________________\n",
      "max_pooling2d_3 (MaxPooling2 (None, 13, 16, 32)        0         \n",
      "_________________________________________________________________\n",
      "conv2d_7 (Conv2D)            (None, 11, 14, 64)        18496     \n",
      "_________________________________________________________________\n",
      "conv2d_8 (Conv2D)            (None, 9, 12, 64)         36928     \n",
      "_________________________________________________________________\n",
      "max_pooling2d_4 (MaxPooling2 (None, 4, 6, 64)          0         \n",
      "_________________________________________________________________\n",
      "flatten_2 (Flatten)          (None, 1536)              0         \n",
      "_________________________________________________________________\n",
      "dense_15 (Dense)             (None, 10)                15370     \n",
      "_________________________________________________________________\n",
      "dense_16 (Dense)             (None, 1)                 11        \n",
      "=================================================================\n",
      "Total params: 80,949\n",
      "Trainable params: 80,949\n",
      "Non-trainable params: 0\n",
      "_________________________________________________________________\n",
      "Train on 15091 samples, validate on 1886 samples\n",
      "Epoch 1/3\n",
      "15091/15091 [==============================] - 52s 3ms/step - loss: 2.3231 - val_loss: 2.1748\n",
      "Epoch 2/3\n",
      "15091/15091 [==============================] - 51s 3ms/step - loss: 2.2503 - val_loss: 2.1613\n",
      "Epoch 3/3\n",
      "15091/15091 [==============================] - 46s 3ms/step - loss: 2.2500 - val_loss: 2.1622\n",
      "1.4916362299640091\n"
     ]
    }
   ],
   "source": [
    "N = 10\n",
    "seq_len = 30\n",
    "sample_gap = 30\n",
    "\n",
    "if os.path.exists(path=\"./indicator_data/mydata_{0}_{1}_{2}.pickle\".format(N, seq_len, sample_gap)):\n",
    "    with open(\"./indicator_data/mydata_{0}_{1}_{2}.pickle\".format(N, seq_len, sample_gap), 'rb') as load_data:\n",
    "        (train_input, train_label), (dev_input, dev_label), (test_input, test_label) = pickle.load(load_data)\n",
    "else:\n",
    "    (train_input, train_label), (dev_input, dev_label), (test_input, test_label) = DataLoader(\"./data.csv\", N, seq_len, sample_gap)\n",
    "    with open(\"./indicator_data/mydata_{0}_{1}_{2}.pickle\".format(N, seq_len, sample_gap), 'wb') as save_data:\n",
    "        data_list = [(train_input, train_label), (dev_input, dev_label), (test_input, test_label)]\n",
    "        pickle.dump(data_list, save_data)\n",
    "\n",
    "\"\"\"\n",
    "Train input shape N_samples * seq_len * 108\n",
    "Train label shape N_samples * 1\n",
    "\n",
    "\"\"\"\n",
    "def CNNmodel(train_input, train_label, dev_input, dev_label, test_input, test_label):\n",
    "    train_input = train_input.reshape(train_input.shape[0], train_input.shape[1], int(train_input.shape[2] / 3), 3)\n",
    "    test_input = test_input.reshape(test_input.shape[0], test_input.shape[1], int(test_input.shape[2] / 3), 3)\n",
    "    dev_input = dev_input.reshape(dev_input.shape[0], dev_input.shape[1], int(dev_input.shape[2] / 3), 3)\n",
    "\n",
    "    model = Sequential()\n",
    "    model.add(Conv2D(filters=32, kernel_size=(3, 3), activation='sigmoid', input_shape=(train_input.shape[1], train_input.shape[2], train_input.shape[3])))\n",
    "    model.add(Conv2D(filters=32, kernel_size=(3, 3), activation='sigmoid'))\n",
    "    model.add(MaxPooling2D(pool_size=(2, 2)))\n",
    "    model.add(Conv2D(filters=64, kernel_size=(3, 3), activation='sigmoid'))\n",
    "    model.add(Conv2D(filters=64, kernel_size=(3, 3), activation='sigmoid'))\n",
    "    model.add(MaxPooling2D(pool_size=(2, 2)))\n",
    "    model.add(Flatten())\n",
    "    model.add(Dense(10))\n",
    "    model.add(Dense(1))\n",
    "    model.compile(loss=\"mse\", optimizer=\"adam\")\n",
    "    model.summary()\n",
    "\n",
    "    callback = EarlyStopping(monitor=\"loss\", patience=0.01, verbose=1, mode=\"auto\")\n",
    "    model.fit(train_input, train_label, epochs=3, batch_size=32, validation_data=(dev_input, dev_label), callbacks=[callback])\n",
    "\n",
    "    CNNIndicatorPred = model.predict(test_input)\n",
    "    CNNacc = np.std(CNNIndicatorPred - test_label.reshape(test_label.shape[0], 1))\n",
    "    return CNNacc\n",
    "CNNacc = CNNmodel(train_input, train_label, dev_input, dev_label, test_input, test_label)\n",
    "print(CNNacc)\n",
    "# print(pred.shape, test_label.shape)"
   ]
  },
  {
   "cell_type": "code",
   "execution_count": 21,
   "metadata": {},
   "outputs": [
    {
     "name": "stdout",
     "output_type": "stream",
     "text": [
      "1.5704781815193638\n"
     ]
    }
   ],
   "source": [
    "def AdaRegress(X, y, n_estimators, random_st):\n",
    "    regr = AdaBoostRegressor(n_estimators=n_estimators, random_state=random_st)\n",
    "    regr.fit(X, y)\n",
    "    return regr\n",
    "\n",
    "if os.path.exists(path=\"./indicator_data/mydata_{0}_{1}_{2}.pickle\".format(N, seq_len, sample_gap)):\n",
    "    with open(\"./indicator_data/mydata_{0}_{1}_{2}.pickle\".format(N, seq_len, sample_gap), 'rb') as load_data:\n",
    "        (train_input, train_label), (dev_input, dev_label), (test_input, test_label) = pickle.load(load_data)\n",
    "else:\n",
    "    (train_input, train_label), (dev_input, dev_label), (test_input, test_label) = DataLoader(\"./data.csv\", N, seq_len, sample_gap)\n",
    "    with open(\"./indicator_data/mydata_{0}_{1}_{2}.pickle\".format(N, seq_len, sample_gap), 'wb') as save_data:\n",
    "        data_list = [(train_input, train_label), (dev_input, dev_label), (test_input, test_label)]\n",
    "        pickle.dump(data_list, save_data)\n",
    "\n",
    "pca = PCA(n_components=540)\n",
    "train_input = train_input.reshape(train_input.shape[0], -1)\n",
    "dev_input = dev_input.reshape(dev_input.shape[0], -1)\n",
    "test_input = test_input.reshape(test_input.shape[0], -1)\n",
    "train_input = pca.fit_transform(train_input)\n",
    "dev_input = pca.fit_transform(dev_input)\n",
    "test_input = pca.fit_transform(test_input)\n",
    "\n",
    "regressor = AdaRegress(train_input, np.array(train_label), 100, 0)\n",
    "\n",
    "AdaIndicatorPred = regressor.predict(test_input)\n",
    "AdaBoostacc = np.std(AdaIndicatorPred - np.array(test_label))\n",
    "print(AdaBoostacc)"
   ]
  },
  {
   "cell_type": "code",
   "execution_count": 22,
   "metadata": {},
   "outputs": [
    {
     "name": "stdout",
     "output_type": "stream",
     "text": [
      "_________________________________________________________________\n",
      "Layer (type)                 Output Shape              Param #   \n",
      "=================================================================\n",
      "dense_31 (Dense)             (None, 128)               69248     \n",
      "_________________________________________________________________\n",
      "dense_32 (Dense)             (None, 32)                4128      \n",
      "_________________________________________________________________\n",
      "dense_33 (Dense)             (None, 8)                 264       \n",
      "_________________________________________________________________\n",
      "dense_34 (Dense)             (None, 1)                 9         \n",
      "=================================================================\n",
      "Total params: 73,649\n",
      "Trainable params: 73,649\n",
      "Non-trainable params: 0\n",
      "_________________________________________________________________\n",
      "Train on 9012 samples, validate on 1127 samples\n",
      "Epoch 1/3\n",
      "9012/9012 [==============================] - 4s 393us/step - loss: 2.1940 - val_loss: 3.1879\n",
      "Epoch 2/3\n",
      "9012/9012 [==============================] - 1s 114us/step - loss: 2.1442 - val_loss: 4.1296\n",
      "Epoch 3/3\n",
      "9012/9012 [==============================] - 1s 113us/step - loss: 2.1480 - val_loss: 3.6183\n",
      "Epoch 00003: early stopping\n",
      "1.5465264107079268\n"
     ]
    }
   ],
   "source": [
    "model = Sequential()\n",
    "model.add(Dense(128, input_shape=(train_input.shape[1], ), kernel_initializer='uniform', activation='sigmoid', kernel_regularizer=keras.regularizers.l1(0.)))\n",
    "model.add(Dense(32))\n",
    "model.add(Dense(8))\n",
    "model.add(Dense(1))\n",
    "model.compile(loss=\"mse\", optimizer=\"adam\")\n",
    "model.summary()\n",
    "\n",
    "callback = EarlyStopping(monitor=\"loss\", patience=0.01, verbose=1, mode=\"auto\")\n",
    "model.fit(train_input, train_label, epochs=3, batch_size=32, validation_data=(dev_input, dev_label), callbacks=[callback])\n",
    "\n",
    "DNNIndicatorPred = model.predict(test_input)\n",
    "DNNacc = np.std(DNNIndicatorPred - test_label.reshape(test_label.shape[0], 1))\n",
    "print(DNNacc)"
   ]
  },
  {
   "cell_type": "code",
   "execution_count": 23,
   "metadata": {},
   "outputs": [
    {
     "name": "stdout",
     "output_type": "stream",
     "text": [
      "1.5416751363111998\n"
     ]
    }
   ],
   "source": [
    "def GBDTRegress(X, y, depth, random_st):\n",
    "    regr = GradientBoostingRegressor(max_depth=depth, random_state=random_st)\n",
    "    regr.fit(X, y)\n",
    "    return regr\n",
    "\n",
    "regressor = GBDTRegress(train_input, np.array(train_label), 2, 0)\n",
    "\n",
    "GBDTIndicatorPred = regressor.predict(test_input)\n",
    "GBDTacc = np.std(GBDTIndicatorPred - np.array(test_label))\n",
    "print(GBDTacc)"
   ]
  },
  {
   "cell_type": "code",
   "execution_count": 24,
   "metadata": {},
   "outputs": [
    {
     "name": "stdout",
     "output_type": "stream",
     "text": [
      "1.5328322535703058\n"
     ]
    }
   ],
   "source": [
    "def RandomForestRegress(X, y, depth, random_st, n_estimators):\n",
    "    regr = RandomForestRegressor(max_depth=depth, random_state=random_st, n_estimators=n_estimators)\n",
    "    regr.fit(X, y)\n",
    "    return regr\n",
    "\n",
    "regressor = RandomForestRegress(train_input, np.array(train_label), 2, 0, 100)\n",
    "\n",
    "RFIndicatorPred = regressor.predict(test_input)\n",
    "RFacc = np.std(RFIndicatorPred - np.array(test_label))\n",
    "print(RFacc)"
   ]
  },
  {
   "cell_type": "code",
   "execution_count": 25,
   "metadata": {},
   "outputs": [
    {
     "name": "stderr",
     "output_type": "stream",
     "text": [
      "/Users/quan/Library/Python/3.5/lib/python/site-packages/ipykernel_launcher.py:19: UserWarning: The `input_dim` and `input_length` arguments in recurrent layers are deprecated. Use `input_shape` instead.\n",
      "/Users/quan/Library/Python/3.5/lib/python/site-packages/ipykernel_launcher.py:19: UserWarning: Update your `LSTM` call to the Keras 2 API: `LSTM(128, input_shape=(50, 108), return_sequences=True)`\n"
     ]
    },
    {
     "name": "stdout",
     "output_type": "stream",
     "text": [
      "_________________________________________________________________\n",
      "Layer (type)                 Output Shape              Param #   \n",
      "=================================================================\n",
      "lstm_17 (LSTM)               (None, 50, 128)           121344    \n",
      "_________________________________________________________________\n",
      "lstm_18 (LSTM)               (None, 50)                35800     \n",
      "_________________________________________________________________\n",
      "dense_35 (Dense)             (None, 10)                510       \n",
      "_________________________________________________________________\n",
      "dense_36 (Dense)             (None, 1)                 11        \n",
      "=================================================================\n",
      "Total params: 157,665\n",
      "Trainable params: 157,665\n",
      "Non-trainable params: 0\n",
      "_________________________________________________________________\n",
      "Train on 9012 samples, validate on 1127 samples\n",
      "Epoch 1/3\n",
      "9012/9012 [==============================] - 35s 4ms/step - loss: 2.1555 - val_loss: 2.7627\n",
      "Epoch 2/3\n",
      "9012/9012 [==============================] - 33s 4ms/step - loss: 2.1317 - val_loss: 2.7666\n",
      "Epoch 3/3\n",
      "9012/9012 [==============================] - 34s 4ms/step - loss: 2.1323 - val_loss: 2.7609\n",
      "Epoch 00003: early stopping\n",
      "1.537528631611567\n"
     ]
    }
   ],
   "source": [
    "if os.path.exists(path=\"./indicator_data/mydata_{0}_{1}_{2}.pickle\".format(N, seq_len, sample_gap)):\n",
    "    with open(\"./indicator_data/mydata_{0}_{1}_{2}.pickle\".format(N, seq_len, sample_gap), 'rb') as load_data:\n",
    "        (train_input, train_label), (dev_input, dev_label), (test_input, test_label) = pickle.load(load_data)\n",
    "else:\n",
    "    (train_input, train_label), (dev_input, dev_label), (test_input, test_label) = DataLoader(\"./data.csv\", N, seq_len, sample_gap)\n",
    "    with open(\"./indicator_data/mydata_{0}_{1}_{2}.pickle\".format(N, seq_len, sample_gap), 'wb') as save_data:\n",
    "        data_list = [(train_input, train_label), (dev_input, dev_label), (test_input, test_label)]\n",
    "        pickle.dump(data_list, save_data)\n",
    "\n",
    "\"\"\"\n",
    "Train input shape N_samples * seq_len * 108\n",
    "Train label shape N_samples * 1\n",
    "\n",
    "\"\"\"\n",
    "def LSTMModel(train_input, train_label, dev_input, dev_label, test_input, test_label):\n",
    "    model = Sequential()\n",
    "    model.add(LSTM(128, input_length=train_input.shape[1], input_dim=train_input.shape[2], return_sequences=True))\n",
    "    model.add(LSTM(50, return_sequences=False))\n",
    "    model.add(Dense(10))\n",
    "    model.add(Dense(1))\n",
    "    model.compile(loss=\"mse\", optimizer=\"adam\")\n",
    "    model.summary()\n",
    "\n",
    "    callback = EarlyStopping(monitor=\"loss\", patience=0.01, verbose=1, mode=\"auto\")\n",
    "    model.fit(train_input, train_label, epochs=3, batch_size=32, validation_data=(dev_input, dev_label), callbacks=[callback])\n",
    "\n",
    "    LSTMIndicatorPred = model.predict(test_input)\n",
    "    LSTMacc = np.std(LSTMIndicatorPred - test_label.reshape(test_label.shape[0], 1))\n",
    "    return LSTMacc\n",
    "LSTMacc = LSTMModel(train_input, train_label, dev_input, dev_label, test_input, test_label)\n",
    "print(LSTMacc)"
   ]
  },
  {
   "cell_type": "markdown",
   "metadata": {},
   "source": [
    "### Now try the raw data"
   ]
  },
  {
   "cell_type": "code",
   "execution_count": 7,
   "metadata": {},
   "outputs": [
    {
     "name": "stdout",
     "output_type": "stream",
     "text": [
      "dataset length:\t1721577\ttime:\t482.6740942001343\n",
      "(576093,)\n",
      "total data:\t18864\ttotal labels:\t18864\n",
      "train set size:\t15091\tdevelop set size:\t1886\ttest set size:\t1887\n",
      "(15091, 840)\n",
      "1.6108669872490595\n"
     ]
    }
   ],
   "source": [
    "if os.path.exists(path=\"./raw_data/mydata_{0}_{1}_{2}.pickle\".format(N, seq_len, sample_gap)):\n",
    "    with open(\"./raw_data/mydata_{0}_{1}_{2}.pickle\".format(N, seq_len, sample_gap), 'rb') as load_data:\n",
    "        (train_input, train_label), (dev_input, dev_label), (test_input, test_label) = pickle.load(load_data)\n",
    "else:\n",
    "    (train_input, train_label), (dev_input, dev_label), (test_input, test_label) = DataLoader(\"./data.csv\", N, seq_len, sample_gap, False)\n",
    "    with open(\"./raw_data/mydata_{0}_{1}_{2}.pickle\".format(N, seq_len, sample_gap), 'wb') as save_data:\n",
    "        data_list = [(train_input, train_label), (dev_input, dev_label), (test_input, test_label)]\n",
    "        pickle.dump(data_list, save_data)\n",
    "        \n",
    "print(train_input.shape)\n",
    "train_input = train_input.reshape(train_input.shape[0], -1)\n",
    "dev_input = dev_input.reshape(dev_input.shape[0], -1)\n",
    "test_input = test_input.reshape(test_input.shape[0], -1)\n",
    "# train_input = pca.fit_transform(train_input)\n",
    "# dev_input = pca.fit_transform(dev_input)\n",
    "# test_input = pca.fit_transform(test_input)\n",
    "\n",
    "def AdaRegress(X, y, n_estimators, random_st):\n",
    "    regr = AdaBoostRegressor(n_estimators=n_estimators, random_state=random_st)\n",
    "    regr.fit(X, y)\n",
    "    return regr\n",
    "\n",
    "regressor = AdaRegress(train_input, np.array(train_label), 100, 0)\n",
    "\n",
    "AdaRawPred = regressor.predict(test_input)\n",
    "AdaBoostacc2 = np.std(AdaRawPred - np.array(test_label))\n",
    "print(AdaBoostacc2)"
   ]
  },
  {
   "cell_type": "code",
   "execution_count": 8,
   "metadata": {},
   "outputs": [
    {
     "name": "stdout",
     "output_type": "stream",
     "text": [
      "_________________________________________________________________\n",
      "Layer (type)                 Output Shape              Param #   \n",
      "=================================================================\n",
      "dense_1 (Dense)              (None, 128)               107648    \n",
      "_________________________________________________________________\n",
      "dense_2 (Dense)              (None, 32)                4128      \n",
      "_________________________________________________________________\n",
      "dense_3 (Dense)              (None, 8)                 264       \n",
      "_________________________________________________________________\n",
      "dense_4 (Dense)              (None, 1)                 9         \n",
      "=================================================================\n",
      "Total params: 112,049\n",
      "Trainable params: 112,049\n",
      "Non-trainable params: 0\n",
      "_________________________________________________________________\n",
      "Train on 15091 samples, validate on 1886 samples\n",
      "Epoch 1/3\n",
      "15091/15091 [==============================] - 3s 183us/step - loss: 2.2243 - val_loss: 2.3150\n",
      "Epoch 2/3\n",
      "15091/15091 [==============================] - 2s 150us/step - loss: 2.2125 - val_loss: 2.3202\n",
      "Epoch 3/3\n",
      "15091/15091 [==============================] - 3s 177us/step - loss: 2.2090 - val_loss: 2.3094\n",
      "1.5552213955819045\n"
     ]
    }
   ],
   "source": [
    "model = Sequential()\n",
    "model.add(Dense(128, input_shape=(train_input.shape[1], ), kernel_initializer='uniform', activation='sigmoid', kernel_regularizer=keras.regularizers.l1(0.)))\n",
    "model.add(Dense(32))\n",
    "model.add(Dense(8))\n",
    "model.add(Dense(1))\n",
    "model.compile(loss=\"mse\", optimizer=\"adam\")\n",
    "model.summary()\n",
    "\n",
    "callback = EarlyStopping(monitor=\"loss\", patience=0.01, verbose=1, mode=\"auto\")\n",
    "model.fit(train_input, train_label, epochs=3, batch_size=32, validation_data=(dev_input, dev_label), callbacks=[callback])\n",
    "\n",
    "DNNRawPred = model.predict(test_input)\n",
    "DNNacc2 = np.std(DNNRawPred - test_label.reshape(test_label.shape[0], 1))\n",
    "print(DNNacc2)"
   ]
  },
  {
   "cell_type": "code",
   "execution_count": 10,
   "metadata": {},
   "outputs": [
    {
     "name": "stdout",
     "output_type": "stream",
     "text": [
      "1.5626932475911746\n"
     ]
    }
   ],
   "source": [
    "regressor = GBDTRegress(train_input, np.array(train_label), 2, 0)\n",
    "\n",
    "GBDTRawPred = regressor.predict(test_input)\n",
    "GBDTacc2 = np.std(GBDTRawPred - np.array(test_label))\n",
    "print(GBDTacc2)"
   ]
  },
  {
   "cell_type": "code",
   "execution_count": 11,
   "metadata": {},
   "outputs": [
    {
     "name": "stdout",
     "output_type": "stream",
     "text": [
      "1.5575153458364646\n"
     ]
    }
   ],
   "source": [
    "regressor = RandomForestRegress(train_input, np.array(train_label), 2, 0, 100)\n",
    "\n",
    "RFRawPred = regressor.predict(test_input)\n",
    "RFacc2 = np.std(RFRawPred - np.array(test_label))\n",
    "print(RFacc2)"
   ]
  },
  {
   "cell_type": "code",
   "execution_count": 13,
   "metadata": {},
   "outputs": [
    {
     "name": "stdout",
     "output_type": "stream",
     "text": [
      "(15091, 30, 28)\n"
     ]
    },
    {
     "name": "stderr",
     "output_type": "stream",
     "text": [
      "/Users/quan/Library/Python/3.5/lib/python/site-packages/ipykernel_launcher.py:3: UserWarning: The `input_dim` and `input_length` arguments in recurrent layers are deprecated. Use `input_shape` instead.\n",
      "  This is separate from the ipykernel package so we can avoid doing imports until\n",
      "/Users/quan/Library/Python/3.5/lib/python/site-packages/ipykernel_launcher.py:3: UserWarning: Update your `LSTM` call to the Keras 2 API: `LSTM(128, input_shape=(30, 28), return_sequences=True)`\n",
      "  This is separate from the ipykernel package so we can avoid doing imports until\n"
     ]
    },
    {
     "name": "stdout",
     "output_type": "stream",
     "text": [
      "_________________________________________________________________\n",
      "Layer (type)                 Output Shape              Param #   \n",
      "=================================================================\n",
      "lstm_1 (LSTM)                (None, 30, 128)           80384     \n",
      "_________________________________________________________________\n",
      "lstm_2 (LSTM)                (None, 50)                35800     \n",
      "_________________________________________________________________\n",
      "dense_5 (Dense)              (None, 10)                510       \n",
      "_________________________________________________________________\n",
      "dense_6 (Dense)              (None, 1)                 11        \n",
      "=================================================================\n",
      "Total params: 116,705\n",
      "Trainable params: 116,705\n",
      "Non-trainable params: 0\n",
      "_________________________________________________________________\n",
      "Train on 15091 samples, validate on 1886 samples\n",
      "Epoch 1/3\n",
      "15091/15091 [==============================] - 46s 3ms/step - loss: 2.2184 - val_loss: 2.3091\n",
      "Epoch 2/3\n",
      "15091/15091 [==============================] - 39s 3ms/step - loss: 2.2138 - val_loss: 2.3098\n",
      "Epoch 3/3\n",
      "15091/15091 [==============================] - 39s 3ms/step - loss: 2.2098 - val_loss: 2.3092\n",
      "1.5552735769548494\n"
     ]
    }
   ],
   "source": [
    "train_input = np.array(train_input).reshape(train_input.shape[0], seq_len, -1)\n",
    "train_label = np.array(train_label)\n",
    "dev_input = np.array(dev_input).reshape(dev_input.shape[0], seq_len, -1)\n",
    "dev_label = np.array(dev_label)\n",
    "test_input = np.array(test_input).reshape(test_input.shape[0], seq_len, -1)\n",
    "test_label = np.array(test_label)\n",
    "\n",
    "print(train_input.shape)\n",
    "\"\"\"\n",
    "Train input shape N_samples * seq_len * 108\n",
    "Train label shape N_samples * 1\n",
    "\n",
    "\"\"\"\n",
    "\n",
    "LSTMacc2 = LSTMModel(train_input, train_label, dev_input, dev_label, test_input, test_label)\n",
    "print(LSTMacc2)"
   ]
  },
  {
   "cell_type": "code",
   "execution_count": 16,
   "metadata": {},
   "outputs": [
    {
     "name": "stdout",
     "output_type": "stream",
     "text": [
      "_________________________________________________________________\n",
      "Layer (type)                 Output Shape              Param #   \n",
      "=================================================================\n",
      "conv2d_4 (Conv2D)            (None, 28, 5, 32)         1184      \n",
      "_________________________________________________________________\n",
      "conv2d_5 (Conv2D)            (None, 26, 3, 32)         9248      \n",
      "_________________________________________________________________\n",
      "max_pooling2d_2 (MaxPooling2 (None, 13, 1, 32)         0         \n",
      "_________________________________________________________________\n",
      "flatten_1 (Flatten)          (None, 416)               0         \n",
      "_________________________________________________________________\n",
      "dense_7 (Dense)              (None, 10)                4170      \n",
      "_________________________________________________________________\n",
      "dense_8 (Dense)              (None, 1)                 11        \n",
      "=================================================================\n",
      "Total params: 14,613\n",
      "Trainable params: 14,613\n",
      "Non-trainable params: 0\n",
      "_________________________________________________________________\n",
      "Train on 15091 samples, validate on 1886 samples\n",
      "Epoch 1/3\n",
      "15091/15091 [==============================] - 8s 517us/step - loss: 2.2496 - val_loss: 2.3200\n",
      "Epoch 2/3\n",
      "15091/15091 [==============================] - 7s 437us/step - loss: 2.2140 - val_loss: 2.3138\n",
      "Epoch 3/3\n",
      "15091/15091 [==============================] - 7s 453us/step - loss: 2.2103 - val_loss: 2.3161\n",
      "1.5552674337839474\n"
     ]
    }
   ],
   "source": [
    "def CNNmodel(train_input, train_label, dev_input, dev_label, test_input, test_label):\n",
    "    train_input = train_input.reshape(train_input.shape[0], train_input.shape[1], int(train_input.shape[2] / 4), 4)\n",
    "    test_input = test_input.reshape(test_input.shape[0], test_input.shape[1], int(test_input.shape[2] / 4), 4)\n",
    "    dev_input = dev_input.reshape(dev_input.shape[0], dev_input.shape[1], int(dev_input.shape[2] / 4), 4)\n",
    "\n",
    "    model = Sequential()\n",
    "    model.add(Conv2D(filters=32, kernel_size=(3, 3), activation='sigmoid', input_shape=(train_input.shape[1], train_input.shape[2], train_input.shape[3])))\n",
    "    model.add(Conv2D(filters=32, kernel_size=(3, 3), activation='sigmoid'))\n",
    "    model.add(MaxPooling2D(pool_size=(2, 2)))\n",
    "    model.add(Flatten())\n",
    "    model.add(Dense(10))\n",
    "    model.add(Dense(1))\n",
    "    model.compile(loss=\"mse\", optimizer=\"adam\")\n",
    "    model.summary()\n",
    "\n",
    "    callback = EarlyStopping(monitor=\"loss\", patience=0.01, verbose=1, mode=\"auto\")\n",
    "    model.fit(train_input, train_label, epochs=3, batch_size=32, validation_data=(dev_input, dev_label), callbacks=[callback])\n",
    "\n",
    "    CNNIndicatorPred = model.predict(test_input)\n",
    "    CNNacc = np.std(CNNIndicatorPred - test_label.reshape(test_label.shape[0], 1))\n",
    "    return CNNacc\n",
    "\n",
    "CNNacc2 = CNNmodel(train_input, train_label, dev_input, dev_label, test_input, test_label)\n",
    "print(CNNacc2)"
   ]
  },
  {
   "cell_type": "code",
   "execution_count": 32,
   "metadata": {},
   "outputs": [
    {
     "data": {
      "text/plain": [
       "[<matplotlib.lines.Line2D at 0x15cde1240>]"
      ]
     },
     "execution_count": 32,
     "metadata": {},
     "output_type": "execute_result"
    },
    {
     "data": {
      "image/png": "[encoded data removed]",
      "text/plain": [
       "<Figure size 432x288 with 1 Axes>"
      ]
     },
     "metadata": {
      "needs_background": "light"
     },
     "output_type": "display_data"
    }
   ],
   "source": [
    "import matplotlib.pyplot as plt\n",
    "fig = plt.figure()\n",
    "plt.plot(['DNN', 'CNN', 'LSTM', 'GBDT', 'RandomForest', 'AdaBoost'], [DNNacc, CNNacc, LSTMacc, GBDTacc, RFacc, AdaBoostacc], 'red', label='indicator')\n",
    "plt.plot(['DNN', 'CNN', 'LSTM', 'GBDT', 'RandomForest', 'AdaBoost'], [DNNacc2, CNNacc2, LSTMacc2, GBDTacc2, RFacc2, AdaBoostacc2], 'blue', label='raw')"
   ]
  },
  {
   "cell_type": "markdown",
   "metadata": {},
   "source": [
    "### Comparing Different N & Sample Gaps\n",
    "Using LSTM model as an example, we can show the different accuracy or say, MSE loss by choosing distinct value of n & sample gaps & sequence length"
   ]
  },
  {
   "cell_type": "code",
   "execution_count": 4,
   "metadata": {},
   "outputs": [
    {
     "name": "stderr",
     "output_type": "stream",
     "text": [
      "/Users/quan/Library/Python/3.5/lib/python/site-packages/ipykernel_launcher.py:11: UserWarning: The `input_dim` and `input_length` arguments in recurrent layers are deprecated. Use `input_shape` instead.\n",
      "  # This is added back by InteractiveShellApp.init_path()\n",
      "/Users/quan/Library/Python/3.5/lib/python/site-packages/ipykernel_launcher.py:11: UserWarning: Update your `LSTM` call to the Keras 2 API: `LSTM(128, input_shape=(50, 108), return_sequences=True)`\n",
      "  # This is added back by InteractiveShellApp.init_path()\n"
     ]
    },
    {
     "name": "stdout",
     "output_type": "stream",
     "text": [
      "_________________________________________________________________\n",
      "Layer (type)                 Output Shape              Param #   \n",
      "=================================================================\n",
      "lstm_1 (LSTM)                (None, 50, 128)           121344    \n",
      "_________________________________________________________________\n",
      "lstm_2 (LSTM)                (None, 50)                35800     \n",
      "_________________________________________________________________\n",
      "dense_1 (Dense)              (None, 10)                510       \n",
      "_________________________________________________________________\n",
      "dense_2 (Dense)              (None, 1)                 11        \n",
      "=================================================================\n",
      "Total params: 157,665\n",
      "Trainable params: 157,665\n",
      "Non-trainable params: 0\n",
      "_________________________________________________________________\n",
      "Train on 9012 samples, validate on 1127 samples\n",
      "Epoch 1/3\n",
      "9012/9012 [==============================] - 32s 4ms/step - loss: 2.1649 - val_loss: 2.7724\n",
      "Epoch 2/3\n",
      "9012/9012 [==============================] - 29s 3ms/step - loss: 2.1365 - val_loss: 2.7695\n",
      "Epoch 3/3\n",
      "9012/9012 [==============================] - 33s 4ms/step - loss: 2.1282 - val_loss: 2.7560\n"
     ]
    },
    {
     "name": "stderr",
     "output_type": "stream",
     "text": [
      "/Users/quan/Library/Python/3.5/lib/python/site-packages/ipykernel_launcher.py:11: UserWarning: Update your `LSTM` call to the Keras 2 API: `LSTM(128, input_shape=(100, 108), return_sequences=True)`\n",
      "  # This is added back by InteractiveShellApp.init_path()\n"
     ]
    },
    {
     "name": "stdout",
     "output_type": "stream",
     "text": [
      "_________________________________________________________________\n",
      "Layer (type)                 Output Shape              Param #   \n",
      "=================================================================\n",
      "lstm_3 (LSTM)                (None, 100, 128)          121344    \n",
      "_________________________________________________________________\n",
      "lstm_4 (LSTM)                (None, 50)                35800     \n",
      "_________________________________________________________________\n",
      "dense_3 (Dense)              (None, 10)                510       \n",
      "_________________________________________________________________\n",
      "dense_4 (Dense)              (None, 1)                 11        \n",
      "=================================================================\n",
      "Total params: 157,665\n",
      "Trainable params: 157,665\n",
      "Non-trainable params: 0\n",
      "_________________________________________________________________\n",
      "Train on 4452 samples, validate on 556 samples\n",
      "Epoch 1/3\n",
      "4452/4452 [==============================] - 33s 7ms/step - loss: 2.1655 - val_loss: 2.4160\n",
      "Epoch 2/3\n",
      "4452/4452 [==============================] - 33s 7ms/step - loss: 2.1391 - val_loss: 2.3849\n",
      "Epoch 3/3\n",
      "4452/4452 [==============================] - 33s 7ms/step - loss: 2.1189 - val_loss: 2.4428\n",
      "_________________________________________________________________\n",
      "Layer (type)                 Output Shape              Param #   \n",
      "=================================================================\n",
      "lstm_5 (LSTM)                (None, 50, 128)           121344    \n",
      "_________________________________________________________________\n",
      "lstm_6 (LSTM)                (None, 50)                35800     \n",
      "_________________________________________________________________\n",
      "dense_5 (Dense)              (None, 10)                510       \n",
      "_________________________________________________________________\n",
      "dense_6 (Dense)              (None, 1)                 11        \n",
      "=================================================================\n",
      "Total params: 157,665\n",
      "Trainable params: 157,665\n",
      "Non-trainable params: 0\n",
      "_________________________________________________________________\n",
      "Train on 8957 samples, validate on 1120 samples\n",
      "Epoch 1/3\n",
      "8957/8957 [==============================] - 32s 4ms/step - loss: 11.2796 - val_loss: 10.3049\n",
      "Epoch 2/3\n",
      "8957/8957 [==============================] - 30s 3ms/step - loss: 11.2122 - val_loss: 10.2877\n",
      "Epoch 3/3\n",
      "8957/8957 [==============================] - 32s 4ms/step - loss: 11.2082 - val_loss: 10.2989\n",
      "_________________________________________________________________\n",
      "Layer (type)                 Output Shape              Param #   \n",
      "=================================================================\n",
      "lstm_7 (LSTM)                (None, 50, 128)           121344    \n",
      "_________________________________________________________________\n",
      "lstm_8 (LSTM)                (None, 50)                35800     \n",
      "_________________________________________________________________\n",
      "dense_7 (Dense)              (None, 10)                510       \n",
      "_________________________________________________________________\n",
      "dense_8 (Dense)              (None, 1)                 11        \n",
      "=================================================================\n",
      "Total params: 157,665\n",
      "Trainable params: 157,665\n",
      "Non-trainable params: 0\n",
      "_________________________________________________________________\n",
      "Train on 4424 samples, validate on 553 samples\n",
      "Epoch 1/3\n",
      "4424/4424 [==============================] - 17s 4ms/step - loss: 11.6457 - val_loss: 10.1186\n",
      "Epoch 2/3\n",
      "4424/4424 [==============================] - 14s 3ms/step - loss: 11.5284 - val_loss: 9.9799\n",
      "Epoch 3/3\n",
      "4424/4424 [==============================] - 14s 3ms/step - loss: 11.5431 - val_loss: 9.9474\n",
      "Epoch 00003: early stopping\n",
      "_________________________________________________________________\n",
      "Layer (type)                 Output Shape              Param #   \n",
      "=================================================================\n",
      "lstm_9 (LSTM)                (None, 50, 128)           121344    \n",
      "_________________________________________________________________\n",
      "lstm_10 (LSTM)               (None, 50)                35800     \n",
      "_________________________________________________________________\n",
      "dense_9 (Dense)              (None, 10)                510       \n",
      "_________________________________________________________________\n",
      "dense_10 (Dense)             (None, 1)                 11        \n",
      "=================================================================\n",
      "Total params: 157,665\n",
      "Trainable params: 157,665\n",
      "Non-trainable params: 0\n",
      "_________________________________________________________________\n",
      "Train on 4391 samples, validate on 549 samples\n",
      "Epoch 1/3\n",
      "4391/4391 [==============================] - 17s 4ms/step - loss: 22.9083 - val_loss: 25.1255\n",
      "Epoch 2/3\n",
      "4391/4391 [==============================] - 15s 3ms/step - loss: 22.7617 - val_loss: 25.0318\n",
      "Epoch 3/3\n",
      "4391/4391 [==============================] - 15s 3ms/step - loss: 22.7281 - val_loss: 25.2659\n",
      "_________________________________________________________________\n",
      "Layer (type)                 Output Shape              Param #   \n",
      "=================================================================\n",
      "lstm_11 (LSTM)               (None, 100, 128)          121344    \n",
      "_________________________________________________________________\n",
      "lstm_12 (LSTM)               (None, 50)                35800     \n",
      "_________________________________________________________________\n",
      "dense_11 (Dense)             (None, 10)                510       \n",
      "_________________________________________________________________\n",
      "dense_12 (Dense)             (None, 1)                 11        \n",
      "=================================================================\n",
      "Total params: 157,665\n",
      "Trainable params: 157,665\n",
      "Non-trainable params: 0\n",
      "_________________________________________________________________\n",
      "Train on 4391 samples, validate on 549 samples\n",
      "Epoch 1/3\n",
      "4391/4391 [==============================] - 36s 8ms/step - loss: 23.4998 - val_loss: 19.9841\n",
      "Epoch 2/3\n",
      "4391/4391 [==============================] - 31s 7ms/step - loss: 23.3116 - val_loss: 20.0874\n",
      "Epoch 3/3\n",
      "4391/4391 [==============================] - 32s 7ms/step - loss: 23.2722 - val_loss: 20.0427\n"
     ]
    },
    {
     "data": {
      "text/plain": [
       "[<matplotlib.lines.Line2D at 0x13c86cc18>]"
      ]
     },
     "execution_count": 4,
     "metadata": {},
     "output_type": "execute_result"
    }
   ],
   "source": [
    "def LSTMModel(train_input, train_label, dev_input, dev_label, test_input, test_label):\n",
    "    model = Sequential()\n",
    "    model.add(LSTM(128, input_length=train_input.shape[1], input_dim=train_input.shape[2], return_sequences=True))\n",
    "    model.add(LSTM(50, return_sequences=False))\n",
    "    model.add(Dense(10))\n",
    "    model.add(Dense(1))\n",
    "    model.compile(loss=\"mse\", optimizer=\"adam\")\n",
    "    model.summary()\n",
    "\n",
    "    callback = EarlyStopping(monitor=\"loss\", patience=0.01, verbose=1, mode=\"auto\")\n",
    "    model.fit(train_input, train_label, epochs=3, batch_size=32, validation_data=(dev_input, dev_label), callbacks=[callback])\n",
    "\n",
    "    LSTMIndicatorPred = model.predict(test_input)\n",
    "    LSTMacc = np.std(LSTMIndicatorPred - test_label.reshape(test_label.shape[0], 1))\n",
    "    return LSTMacc\n",
    "\n",
    "NSS = [[10, 50, 50], [10, 100, 100], [50, 50, 50], [50, 50, 100], [100, 50, 100], [100, 100, 100]]\n",
    "accs = []\n",
    "for nss in NSS:\n",
    "    N, seq_len, sample_gap = nss\n",
    "    if os.path.exists(path=\"./indicator_data/mydata_{0}_{1}_{2}.pickle\".format(N, seq_len, sample_gap)):\n",
    "        with open(\"./indicator_data/mydata_{0}_{1}_{2}.pickle\".format(N, seq_len, sample_gap), 'rb') as load_data:\n",
    "            (train_input, train_label), (dev_input, dev_label), (test_input, test_label) = pickle.load(load_data)\n",
    "    else:\n",
    "        (train_input, train_label), (dev_input, dev_label), (test_input, test_label) = DataLoader(\"./data.csv\", N, seq_len, sample_gap)\n",
    "        with open(\"./indicator_data/mydata_{0}_{1}_{2}.pickle\".format(N, seq_len, sample_gap), 'wb') as save_data:\n",
    "            data_list = [(train_input, train_label), (dev_input, dev_label), (test_input, test_label)]\n",
    "            pickle.dump(data_list, save_data)\n",
    "    \n",
    "    LSTMacc = LSTMModel(train_input, train_label, dev_input, dev_label, test_input, test_label)\n",
    "    accs.append(LSTMacc)\n",
    "    "
   ]
  },
  {
   "cell_type": "code",
   "execution_count": 5,
   "metadata": {},
   "outputs": [
    {
     "data": {
      "text/plain": [
       "[<matplotlib.lines.Line2D at 0x13c8fc6d8>]"
      ]
     },
     "execution_count": 5,
     "metadata": {},
     "output_type": "execute_result"
    },
    {
     "data": {
      "image/png": "[encoded data removed]",
      "text/plain": [
       "<Figure size 432x288 with 1 Axes>"
      ]
     },
     "metadata": {
      "needs_background": "light"
     },
     "output_type": "display_data"
    }
   ],
   "source": [
    "plt.figure()\n",
    "plt.plot([\"10 50 50\", \"10 100 100\", \"50 50 50\", \"50 50 100\", \"100 50 100\", \"100 100 100\"], accs)"
   ]
  },
  {
   "cell_type": "markdown",
   "metadata": {},
   "source": [
    "### Now we compare the raw model and with PCA to show the effect of PCA"
   ]
  },
  {
   "cell_type": "code",
   "execution_count": 17,
   "metadata": {},
   "outputs": [
    {
     "name": "stdout",
     "output_type": "stream",
     "text": [
      "AdaBoost 1.5397229009697102\n"
     ]
    }
   ],
   "source": [
    "N = 10\n",
    "seq_len = 30\n",
    "sample_gap = 30\n",
    "\n",
    "if os.path.exists(path=\"./indicator_data/mydata_{0}_{1}_{2}.pickle\".format(N, seq_len, sample_gap)):\n",
    "    with open(\"./indicator_data/mydata_{0}_{1}_{2}.pickle\".format(N, seq_len, sample_gap), 'rb') as load_data:\n",
    "        (train_input, train_label), (dev_input, dev_label), (test_input, test_label) = pickle.load(load_data)\n",
    "else:\n",
    "    (train_input, train_label), (dev_input, dev_label), (test_input, test_label) = DataLoader(\"./data.csv\", N, seq_len, sample_gap)\n",
    "    with open(\"./indicator_data/mydata_{0}_{1}_{2}.pickle\".format(N, seq_len, sample_gap), 'wb') as save_data:\n",
    "        data_list = [(train_input, train_label), (dev_input, dev_label), (test_input, test_label)]\n",
    "        pickle.dump(data_list, save_data)\n",
    "        \n",
    "train_input = train_input.reshape(train_input.shape[0], -1)\n",
    "dev_input = dev_input.reshape(dev_input.shape[0], -1)\n",
    "test_input = test_input.reshape(test_input.shape[0], -1)\n",
    "\n",
    "accs3 = []\n",
    "regressor = AdaRegress(train_input, np.array(train_label), 100, 0)\n",
    "\n",
    "AdaIndicatorPred = regressor.predict(test_input)\n",
    "AdaBoostacc3 = np.std(AdaIndicatorPred - np.array(test_label))\n",
    "accs3.append(AdaBoostacc3)\n",
    "print(\"AdaBoost\", AdaBoostacc3)"
   ]
  },
  {
   "cell_type": "code",
   "execution_count": 18,
   "metadata": {},
   "outputs": [
    {
     "name": "stdout",
     "output_type": "stream",
     "text": [
      "_________________________________________________________________\n",
      "Layer (type)                 Output Shape              Param #   \n",
      "=================================================================\n",
      "dense_9 (Dense)              (None, 128)               414848    \n",
      "_________________________________________________________________\n",
      "dense_10 (Dense)             (None, 32)                4128      \n",
      "_________________________________________________________________\n",
      "dense_11 (Dense)             (None, 8)                 264       \n",
      "_________________________________________________________________\n",
      "dense_12 (Dense)             (None, 1)                 9         \n",
      "=================================================================\n",
      "Total params: 419,249\n",
      "Trainable params: 419,249\n",
      "Non-trainable params: 0\n",
      "_________________________________________________________________\n",
      "Train on 15091 samples, validate on 1886 samples\n",
      "Epoch 1/3\n",
      "15091/15091 [==============================] - 6s 419us/step - loss: 2.3779 - val_loss: 2.2221\n",
      "Epoch 2/3\n",
      "15091/15091 [==============================] - 5s 319us/step - loss: 2.2666 - val_loss: 2.1670\n",
      "Epoch 3/3\n",
      "15091/15091 [==============================] - 5s 309us/step - loss: 2.2514 - val_loss: 2.1653\n",
      "DNN 1.4950650310860343\n"
     ]
    }
   ],
   "source": [
    "model = Sequential()\n",
    "model.add(Dense(128, input_shape=(train_input.shape[1], ), kernel_initializer='uniform', activation='sigmoid', kernel_regularizer=keras.regularizers.l1(0.)))\n",
    "model.add(Dense(32))\n",
    "model.add(Dense(8))\n",
    "model.add(Dense(1))\n",
    "model.compile(loss=\"mse\", optimizer=\"adam\")\n",
    "model.summary()\n",
    "\n",
    "callback = EarlyStopping(monitor=\"loss\", patience=0.01, verbose=1, mode=\"auto\")\n",
    "model.fit(train_input, train_label, epochs=3, batch_size=32, validation_data=(dev_input, dev_label), callbacks=[callback])\n",
    "\n",
    "DNNRawPred = model.predict(test_input)\n",
    "DNNacc3 = np.std(DNNRawPred - test_label.reshape(test_label.shape[0], 1))\n",
    "accs3.append(DNNacc3)\n",
    "print(\"DNN\", DNNacc3)"
   ]
  },
  {
   "cell_type": "code",
   "execution_count": 19,
   "metadata": {},
   "outputs": [
    {
     "name": "stdout",
     "output_type": "stream",
     "text": [
      "GBDT 1.5003095620657034\n"
     ]
    }
   ],
   "source": [
    "regressor = GBDTRegress(train_input, np.array(train_label), 2, 0)\n",
    "\n",
    "GBDTRawPred = regressor.predict(test_input)\n",
    "GBDTacc3 = np.std(GBDTRawPred - np.array(test_label))\n",
    "accs3.append(GBDTacc3)\n",
    "print(\"GBDT\", GBDTacc3)"
   ]
  },
  {
   "cell_type": "code",
   "execution_count": 20,
   "metadata": {},
   "outputs": [
    {
     "name": "stdout",
     "output_type": "stream",
     "text": [
      "RandomForest 1.4908335653635423\n"
     ]
    }
   ],
   "source": [
    "regressor = RandomForestRegress(train_input, np.array(train_label), 2, 0, 100)\n",
    "\n",
    "RFRawPred = regressor.predict(test_input)\n",
    "RFacc3 = np.std(RFRawPred - np.array(test_label))\n",
    "accs3.append(RFacc3)\n",
    "print(\"RandomForest\", RFacc3)"
   ]
  },
  {
   "cell_type": "code",
   "execution_count": 21,
   "metadata": {},
   "outputs": [
    {
     "data": {
      "text/plain": [
       "<matplotlib.legend.Legend at 0x362cbef98>"
      ]
     },
     "execution_count": 21,
     "metadata": {},
     "output_type": "execute_result"
    },
    {
     "data": {
      "image/png": "[encoded data removed]",
      "text/plain": [
       "<Figure size 432x288 with 1 Axes>"
      ]
     },
     "metadata": {
      "needs_background": "light"
     },
     "output_type": "display_data"
    }
   ],
   "source": [
    "PCAAcc = [1.5704781815193638, 1.5465264107079268, 1.5416751363111998, 1.5416751363111998]\n",
    "plt.figure()\n",
    "plt.plot(['AdaBoost', 'DNN', 'GBDT', 'RandomForest'], PCAAcc, color='blue', label='PCA')\n",
    "plt.plot(['AdaBoost', 'DNN', 'GBDT', 'RandomForest'], accs3, color='red', label='without PCA')\n",
    "plt.legend()"
   ]
  },
  {
   "cell_type": "code",
   "execution_count": null,
   "metadata": {},
   "outputs": [],
   "source": []
  }
 ],
 "metadata": {
  "kernelspec": {
   "display_name": "Python 3",
   "language": "python",
   "name": "python3"
  },
  "language_info": {
   "codemirror_mode": {
    "name": "ipython",
    "version": 3
   },
   "file_extension": ".py",
   "mimetype": "text/x-python",
   "name": "python",
   "nbconvert_exporter": "python",
   "pygments_lexer": "ipython3",
   "version": "3.5.2"
  }
 },
 "nbformat": 4,
 "nbformat_minor": 2
}
